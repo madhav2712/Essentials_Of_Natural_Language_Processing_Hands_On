{
 "cells": [
  {
   "cell_type": "code",
   "execution_count": 6,
   "metadata": {},
   "outputs": [],
   "source": [
    "## Tokenization ##\n",
    "\n",
    "# Importing the library\n",
    "from nltk.tokenize import sent_tokenize\n",
    "from nltk.tokenize import word_tokenize"
   ]
  },
  {
   "cell_type": "code",
   "execution_count": 7,
   "metadata": {},
   "outputs": [],
   "source": [
    "# Importing the Data\n",
    "dataset = \"\"\"Hello Mr. Watson, how are you doing today?\n",
    "             The weather is awsome. The garden is green.\n",
    "             We should go out for a walk.\"\"\""
   ]
  },
  {
   "cell_type": "code",
   "execution_count": 8,
   "metadata": {},
   "outputs": [
    {
     "name": "stdout",
     "output_type": "stream",
     "text": [
      "['Hello Mr. Watson, how are you doing today?', 'The weather is awsome.', 'The garden is green.', 'We should go out for a walk.']\n",
      "Hello Mr. Watson, how are you doing today?\n",
      "The weather is awsome.\n",
      "The garden is green.\n",
      "We should go out for a walk.\n"
     ]
    }
   ],
   "source": [
    "# Tokenize the Sentences\n",
    "print(sent_tokenize(dataset))\n",
    "\n",
    "for i in sent_tokenize(dataset):\n",
    "    print(i)\n",
    "    "
   ]
  },
  {
   "cell_type": "code",
   "execution_count": 9,
   "metadata": {},
   "outputs": [
    {
     "name": "stdout",
     "output_type": "stream",
     "text": [
      "['Hello', 'Mr.', 'Watson', ',', 'how', 'are', 'you', 'doing', 'today', '?', 'The', 'weather', 'is', 'awsome', '.', 'The', 'garden', 'is', 'green', '.', 'We', 'should', 'go', 'out', 'for', 'a', 'walk', '.']\n",
      "Hello\n",
      "Mr.\n",
      "Watson\n",
      ",\n",
      "how\n",
      "are\n",
      "you\n",
      "doing\n",
      "today\n",
      "?\n",
      "The\n",
      "weather\n",
      "is\n",
      "awsome\n",
      ".\n",
      "The\n",
      "garden\n",
      "is\n",
      "green\n",
      ".\n",
      "We\n",
      "should\n",
      "go\n",
      "out\n",
      "for\n",
      "a\n",
      "walk\n",
      ".\n"
     ]
    }
   ],
   "source": [
    "# Tokenize the Words\n",
    "print(word_tokenize(dataset))\n",
    "\n",
    "for i in word_tokenize(dataset):\n",
    "    print(i)\n"
   ]
  }
 ],
 "metadata": {
  "kernelspec": {
   "display_name": "Python 3",
   "language": "python",
   "name": "python3"
  },
  "language_info": {
   "codemirror_mode": {
    "name": "ipython",
    "version": 3
   },
   "file_extension": ".py",
   "mimetype": "text/x-python",
   "name": "python",
   "nbconvert_exporter": "python",
   "pygments_lexer": "ipython3",
   "version": "3.6.5"
  }
 },
 "nbformat": 4,
 "nbformat_minor": 2
}
