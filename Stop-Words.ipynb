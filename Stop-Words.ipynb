{
 "cells": [
  {
   "cell_type": "code",
   "execution_count": 7,
   "metadata": {},
   "outputs": [],
   "source": [
    "# Stop Words\n",
    "\n",
    "# Importing the libraries\n",
    "from nltk.corpus import stopwords\n",
    "from nltk.tokenize import word_tokenize"
   ]
  },
  {
   "cell_type": "code",
   "execution_count": 8,
   "metadata": {},
   "outputs": [],
   "source": [
    "# Importing the data\n",
    "dataset = \"\"\"Hello Mr. Watson, how are you doing today? \n",
    "             The weather is awesome. The garden is Green. \n",
    "             We should go out for a walk.\"\"\""
   ]
  },
  {
   "cell_type": "code",
   "execution_count": 9,
   "metadata": {},
   "outputs": [
    {
     "name": "stdout",
     "output_type": "stream",
     "text": [
      "{\"wouldn't\", 'yours', 'just', 'this', 'y', 'shouldn', \"haven't\", 'only', 'yourselves', 'so', 'who', 'your', 'had', 'herself', 'itself', 'his', 'on', 'off', \"doesn't\", 'the', 'with', 'o', 'himself', 'won', \"don't\", 'her', 'its', 'because', \"didn't\", 'them', \"it's\", 'of', \"mustn't\", 'wasn', 'all', 'hasn', 'do', 'm', 'are', 'my', 'or', 'him', 'been', 'where', 'more', 'isn', 'before', 'don', 'both', 'be', 'between', 'after', 'does', 'having', 'during', 'he', 'how', 'some', 'she', 've', 'why', 'ain', 'most', \"mightn't\", 'we', 'a', 'll', 'is', 'it', \"hasn't\", 'hers', 'down', 'yourself', 'what', \"should've\", 'few', 'ma', 'in', \"you've\", 'at', 'were', 'up', \"wasn't\", 'and', 'now', 'needn', 'themselves', 'under', 'can', 'other', 'any', 's', 'shan', 'too', 'did', 'haven', 't', \"won't\", 'their', 'above', 'below', 'if', 'ourselves', 'into', \"she's\", 'to', 'hadn', 'aren', 'have', 'own', 'once', \"that'll\", 'further', 're', 'same', 'you', 'theirs', 'then', 'am', 'doesn', 'such', 'no', \"needn't\", 'again', 'very', 'weren', \"isn't\", 'should', 'for', \"shan't\", 'while', 'when', 'has', 'an', 'not', 'which', 'they', 'nor', 'couldn', 'about', 'mightn', 'was', 'there', 'being', 'd', 'i', \"shouldn't\", 'ours', 'those', 'myself', \"you'll\", 'whom', 'will', \"weren't\", 'wouldn', 'by', 'than', 'as', 'didn', 'these', 'that', 'until', \"aren't\", \"you'd\", 'but', 'out', 'mustn', \"hadn't\", 'doing', \"you're\", 'from', 'against', 'here', 'each', 'through', \"couldn't\", 'over', 'me', 'our'}\n"
     ]
    }
   ],
   "source": [
    "# Create a set of English Stop Words\n",
    "stop_words = set(stopwords.words(\"english\"))\n",
    "print(stop_words)"
   ]
  },
  {
   "cell_type": "code",
   "execution_count": 10,
   "metadata": {},
   "outputs": [
    {
     "name": "stdout",
     "output_type": "stream",
     "text": [
      "['Hello', 'Mr.', 'Watson', ',', 'how', 'are', 'you', 'doing', 'today', '?', 'The', 'weather', 'is', 'awesome', '.', 'The', 'garden', 'is', 'Green', '.', 'We', 'should', 'go', 'out', 'for', 'a', 'walk', '.']\n"
     ]
    }
   ],
   "source": [
    "# Tokenize the dataset\n",
    "words = word_tokenize(dataset)\n",
    "print(words)"
   ]
  },
  {
   "cell_type": "code",
   "execution_count": 11,
   "metadata": {},
   "outputs": [
    {
     "name": "stdout",
     "output_type": "stream",
     "text": [
      "['Hello', 'Mr.', 'Watson', ',', 'today', '?', 'The', 'weather', 'awesome', '.', 'The', 'garden', 'Green', '.', 'We', 'go', 'walk', '.']\n"
     ]
    }
   ],
   "source": [
    "# Create the list of dataset without stop words\n",
    "filtered_sentence = []\n",
    "\n",
    "for w in words:\n",
    "    if w not in stop_words:\n",
    "        filtered_sentence.append(w)\n",
    "\n",
    "print(filtered_sentence)"
   ]
  }
 ],
 "metadata": {
  "kernelspec": {
   "display_name": "Python 3",
   "language": "python",
   "name": "python3"
  },
  "language_info": {
   "codemirror_mode": {
    "name": "ipython",
    "version": 3
   },
   "file_extension": ".py",
   "mimetype": "text/x-python",
   "name": "python",
   "nbconvert_exporter": "python",
   "pygments_lexer": "ipython3",
   "version": "3.6.5"
  }
 },
 "nbformat": 4,
 "nbformat_minor": 2
}
