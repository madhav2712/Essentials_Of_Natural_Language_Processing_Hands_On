{
 "cells": [
  {
   "cell_type": "code",
   "execution_count": 1,
   "metadata": {},
   "outputs": [],
   "source": [
    "# Stemming\n",
    "\n",
    "# Importing the Libraries\n",
    "from nltk.stem import PorterStemmer\n",
    "from nltk.tokenize import word_tokenize\n"
   ]
  },
  {
   "cell_type": "code",
   "execution_count": 2,
   "metadata": {},
   "outputs": [],
   "source": [
    "# Create object of PorterStemmer class\n",
    "ps = PorterStemmer()"
   ]
  },
  {
   "cell_type": "code",
   "execution_count": 3,
   "metadata": {},
   "outputs": [],
   "source": [
    "# Importing the data\n",
    "dataset = [\"love\", \"lover\", \"loving\", \"loved\", \"lovingly\"]"
   ]
  },
  {
   "cell_type": "code",
   "execution_count": 4,
   "metadata": {},
   "outputs": [
    {
     "name": "stdout",
     "output_type": "stream",
     "text": [
      "love\n",
      "lover\n",
      "love\n",
      "love\n",
      "lovingli\n"
     ]
    }
   ],
   "source": [
    "# Apply the stemming\n",
    "for w in dataset:\n",
    "    print(ps.stem(w))"
   ]
  },
  {
   "cell_type": "code",
   "execution_count": 5,
   "metadata": {},
   "outputs": [],
   "source": [
    "# Importing the data\n",
    "new_dataset = \"\"\" It feels very special when you are loving someone.\n",
    "                  We care for our loved ones.\n",
    "                  Specially when we love each othe unconditionally \"\"\""
   ]
  },
  {
   "cell_type": "code",
   "execution_count": 7,
   "metadata": {},
   "outputs": [
    {
     "name": "stdout",
     "output_type": "stream",
     "text": [
      "['It', 'feels', 'very', 'special', 'when', 'you', 'are', 'loving', 'someone', '.', 'We', 'care', 'for', 'our', 'loved', 'ones', '.', 'Specially', 'when', 'we', 'love', 'each', 'othe', 'unconditionally']\n"
     ]
    }
   ],
   "source": [
    "# Create object of word_tokenize class                  \n",
    "words = word_tokenize(new_dataset)\n",
    "print(words)"
   ]
  },
  {
   "cell_type": "code",
   "execution_count": 8,
   "metadata": {},
   "outputs": [
    {
     "name": "stdout",
     "output_type": "stream",
     "text": [
      "It\n",
      "feel\n",
      "veri\n",
      "special\n",
      "when\n",
      "you\n",
      "are\n",
      "love\n",
      "someon\n",
      ".\n",
      "We\n",
      "care\n",
      "for\n",
      "our\n",
      "love\n",
      "one\n",
      ".\n",
      "special\n",
      "when\n",
      "we\n",
      "love\n",
      "each\n",
      "oth\n",
      "uncondit\n"
     ]
    }
   ],
   "source": [
    "# Apply the stemming\n",
    "for w in words:\n",
    "    print(ps.stem(w))"
   ]
  }
 ],
 "metadata": {
  "kernelspec": {
   "display_name": "Python 3",
   "language": "python",
   "name": "python3"
  },
  "language_info": {
   "codemirror_mode": {
    "name": "ipython",
    "version": 3
   },
   "file_extension": ".py",
   "mimetype": "text/x-python",
   "name": "python",
   "nbconvert_exporter": "python",
   "pygments_lexer": "ipython3",
   "version": "3.6.5"
  }
 },
 "nbformat": 4,
 "nbformat_minor": 2
}
