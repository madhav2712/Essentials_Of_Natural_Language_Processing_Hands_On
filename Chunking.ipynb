{
 "cells": [
  {
   "cell_type": "code",
   "execution_count": 1,
   "metadata": {},
   "outputs": [],
   "source": [
    "# Chunking\n",
    "\n",
    "# Importing the libraries\n",
    "import nltk\n",
    "from nltk.tokenize import word_tokenize\n",
    "from nltk.tag import pos_tag\n",
    "from nltk.chunk import RegexpParser"
   ]
  },
  {
   "cell_type": "code",
   "execution_count": 2,
   "metadata": {},
   "outputs": [],
   "source": [
    "# Importing the data\n",
    "dataset = \"\"\"Taj Mahal is one of the world’s most celebrated structures \n",
    "          in the world.\n",
    "          It is a stunning symbol of Indian rich history\"\"\""
   ]
  },
  {
   "cell_type": "code",
   "execution_count": 3,
   "metadata": {},
   "outputs": [
    {
     "name": "stdout",
     "output_type": "stream",
     "text": [
      "['Taj', 'Mahal', 'is', 'one', 'of', 'the', 'world', '’', 's', 'most', 'celebrated', 'structures', 'in', 'the', 'world', '.', 'It', 'is', 'a', 'stunning', 'symbol', 'of', 'Indian', 'rich', 'history']\n"
     ]
    }
   ],
   "source": [
    "# Tokenize the data\n",
    "new_data = word_tokenize(dataset)\n",
    "print(new_data)"
   ]
  },
  {
   "cell_type": "code",
   "execution_count": 4,
   "metadata": {},
   "outputs": [
    {
     "name": "stdout",
     "output_type": "stream",
     "text": [
      "[('Taj', 'NNP'), ('Mahal', 'NNP'), ('is', 'VBZ'), ('one', 'CD'), ('of', 'IN'), ('the', 'DT'), ('world', 'NN'), ('’', 'NNP'), ('s', 'VBZ'), ('most', 'JJS'), ('celebrated', 'JJ'), ('structures', 'NNS'), ('in', 'IN'), ('the', 'DT'), ('world', 'NN'), ('.', '.'), ('It', 'PRP'), ('is', 'VBZ'), ('a', 'DT'), ('stunning', 'JJ'), ('symbol', 'NN'), ('of', 'IN'), ('Indian', 'JJ'), ('rich', 'JJ'), ('history', 'NN')]\n"
     ]
    }
   ],
   "source": [
    "# Apply the POS Tagging\n",
    "postagging = pos_tag(new_data)\n",
    "print(postagging)"
   ]
  },
  {
   "cell_type": "code",
   "execution_count": 5,
   "metadata": {},
   "outputs": [],
   "source": [
    "# Define the sequence of Chunk\n",
    "sequence_chunk = \"\"\" \n",
    "           chunk:\n",
    "               {<NNPS>+}\n",
    "               {<NNP>+}\n",
    "               {<NN>+} \"\"\""
   ]
  },
  {
   "cell_type": "code",
   "execution_count": 6,
   "metadata": {},
   "outputs": [],
   "source": [
    "# Create object with Regular Expression               \n",
    "chunk = RegexpParser(sequence_chunk)"
   ]
  },
  {
   "cell_type": "code",
   "execution_count": 7,
   "metadata": {},
   "outputs": [
    {
     "name": "stdout",
     "output_type": "stream",
     "text": [
      "(S\n",
      "  (chunk Taj/NNP Mahal/NNP)\n",
      "  is/VBZ\n",
      "  one/CD\n",
      "  of/IN\n",
      "  the/DT\n",
      "  (chunk world/NN)\n",
      "  (chunk ’/NNP)\n",
      "  s/VBZ\n",
      "  most/JJS\n",
      "  celebrated/JJ\n",
      "  structures/NNS\n",
      "  in/IN\n",
      "  the/DT\n",
      "  (chunk world/NN)\n",
      "  ./.\n",
      "  It/PRP\n",
      "  is/VBZ\n",
      "  a/DT\n",
      "  stunning/JJ\n",
      "  (chunk symbol/NN)\n",
      "  of/IN\n",
      "  Indian/JJ\n",
      "  rich/JJ\n",
      "  (chunk history/NN))\n"
     ]
    }
   ],
   "source": [
    "# Final Step\n",
    "chunk_result = chunk.parse(postagging)\n",
    "print(chunk_result)"
   ]
  }
 ],
 "metadata": {
  "kernelspec": {
   "display_name": "Python 3",
   "language": "python",
   "name": "python3"
  },
  "language_info": {
   "codemirror_mode": {
    "name": "ipython",
    "version": 3
   },
   "file_extension": ".py",
   "mimetype": "text/x-python",
   "name": "python",
   "nbconvert_exporter": "python",
   "pygments_lexer": "ipython3",
   "version": "3.6.5"
  }
 },
 "nbformat": 4,
 "nbformat_minor": 2
}
